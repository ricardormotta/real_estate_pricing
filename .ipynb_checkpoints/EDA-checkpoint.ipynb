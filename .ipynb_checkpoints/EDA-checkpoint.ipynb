{
 "cells": [
  {
   "cell_type": "code",
   "execution_count": 1,
   "id": "862bcad6-353c-4180-a555-6c7692a1ccfa",
   "metadata": {},
   "outputs": [],
   "source": [
    "import pandas as pd\n",
    "import geopandas as gpd"
   ]
  },
  {
   "cell_type": "code",
   "execution_count": 2,
   "id": "804914b9-4c4a-42ab-a40b-71ee9e59f817",
   "metadata": {},
   "outputs": [],
   "source": [
    "df = pd.read_csv(\"./data/base_fake_sp.txt\", sep=\"|\")"
   ]
  },
  {
   "cell_type": "code",
   "execution_count": 3,
   "id": "97816bef-b71e-4e68-a1eb-5876256547ef",
   "metadata": {},
   "outputs": [
    {
     "data": {
      "text/html": [
       "<div>\n",
       "<style scoped>\n",
       "    .dataframe tbody tr th:only-of-type {\n",
       "        vertical-align: middle;\n",
       "    }\n",
       "\n",
       "    .dataframe tbody tr th {\n",
       "        vertical-align: top;\n",
       "    }\n",
       "\n",
       "    .dataframe thead th {\n",
       "        text-align: right;\n",
       "    }\n",
       "</style>\n",
       "<table border=\"1\" class=\"dataframe\">\n",
       "  <thead>\n",
       "    <tr style=\"text-align: right;\">\n",
       "      <th></th>\n",
       "      <th>latitude</th>\n",
       "      <th>longitude</th>\n",
       "    </tr>\n",
       "  </thead>\n",
       "  <tbody>\n",
       "    <tr>\n",
       "      <th>0</th>\n",
       "      <td>-23.552340</td>\n",
       "      <td>-46.531492</td>\n",
       "    </tr>\n",
       "    <tr>\n",
       "      <th>1</th>\n",
       "      <td>-23.618805</td>\n",
       "      <td>-46.612495</td>\n",
       "    </tr>\n",
       "    <tr>\n",
       "      <th>2</th>\n",
       "      <td>-23.582853</td>\n",
       "      <td>-46.636407</td>\n",
       "    </tr>\n",
       "    <tr>\n",
       "      <th>3</th>\n",
       "      <td>-23.537177</td>\n",
       "      <td>-46.659744</td>\n",
       "    </tr>\n",
       "    <tr>\n",
       "      <th>4</th>\n",
       "      <td>-23.475676</td>\n",
       "      <td>-46.612332</td>\n",
       "    </tr>\n",
       "    <tr>\n",
       "      <th>...</th>\n",
       "      <td>...</td>\n",
       "      <td>...</td>\n",
       "    </tr>\n",
       "    <tr>\n",
       "      <th>299995</th>\n",
       "      <td>-23.606998</td>\n",
       "      <td>-46.634163</td>\n",
       "    </tr>\n",
       "    <tr>\n",
       "      <th>299996</th>\n",
       "      <td>-23.567482</td>\n",
       "      <td>-46.615565</td>\n",
       "    </tr>\n",
       "    <tr>\n",
       "      <th>299997</th>\n",
       "      <td>-23.600804</td>\n",
       "      <td>-46.652900</td>\n",
       "    </tr>\n",
       "    <tr>\n",
       "      <th>299998</th>\n",
       "      <td>-23.647244</td>\n",
       "      <td>-46.636868</td>\n",
       "    </tr>\n",
       "    <tr>\n",
       "      <th>299999</th>\n",
       "      <td>-23.623313</td>\n",
       "      <td>-46.675174</td>\n",
       "    </tr>\n",
       "  </tbody>\n",
       "</table>\n",
       "<p>300000 rows × 2 columns</p>\n",
       "</div>"
      ],
      "text/plain": [
       "         latitude  longitude\n",
       "0      -23.552340 -46.531492\n",
       "1      -23.618805 -46.612495\n",
       "2      -23.582853 -46.636407\n",
       "3      -23.537177 -46.659744\n",
       "4      -23.475676 -46.612332\n",
       "...           ...        ...\n",
       "299995 -23.606998 -46.634163\n",
       "299996 -23.567482 -46.615565\n",
       "299997 -23.600804 -46.652900\n",
       "299998 -23.647244 -46.636868\n",
       "299999 -23.623313 -46.675174\n",
       "\n",
       "[300000 rows x 2 columns]"
      ]
     },
     "execution_count": 3,
     "metadata": {},
     "output_type": "execute_result"
    }
   ],
   "source": [
    "df[[\"latitude\", \"longitude\"]]"
   ]
  },
  {
   "cell_type": "code",
   "execution_count": 4,
   "id": "12310d66-6368-4ac6-9620-18c46a6f4c69",
   "metadata": {},
   "outputs": [],
   "source": [
    "gdf = gpd.GeoDataFrame(\n",
    "    df, geometry=gpd.points_from_xy(df.longitude, df.latitude))"
   ]
  },
  {
   "cell_type": "code",
   "execution_count": 5,
   "id": "ed45a2bf-091d-4396-867c-5386aaa9d4a0",
   "metadata": {},
   "outputs": [
    {
     "data": {
      "text/plain": [
       "<AxesSubplot: >"
      ]
     },
     "execution_count": 5,
     "metadata": {},
     "output_type": "execute_result"
    },
    {
     "data": {
      "image/png": "[encoded data removed]",
      "text/plain": [
       "<Figure size 640x480 with 1 Axes>"
      ]
     },
     "metadata": {},
     "output_type": "display_data"
    }
   ],
   "source": [
    "gdf.geometry.plot()"
   ]
  },
  {
   "cell_type": "code",
   "execution_count": 6,
   "id": "23f85abf-845c-46d5-8e6d-30f42b41c7e5",
   "metadata": {},
   "outputs": [
    {
     "data": {
      "text/plain": [
       "endereco                0.000000\n",
       "numero_char             0.315022\n",
       "cep                     0.044936\n",
       "latitude                0.000000\n",
       "longitude               0.000000\n",
       "google_type             0.000000\n",
       "shp_municipio           0.000000\n",
       "shp_bairro_distrito     0.000233\n",
       "shp_microarea           0.153558\n",
       "tipo_transacao          0.000000\n",
       "tipo_imovel             0.000000\n",
       "area_util               0.000030\n",
       "dormitorios             0.000257\n",
       "suites                  0.000000\n",
       "banheiros               0.000000\n",
       "vagas                   0.016694\n",
       "area_total              0.099280\n",
       "ano_construcao          0.107318\n",
       "salas                   0.000007\n",
       "andar                   0.000000\n",
       "preco_imovel_mediana    0.000010\n",
       "preco_condominio        0.213779\n",
       "Ano                     0.000000\n",
       "Mes                     0.000000\n",
       "data_ref                0.000000\n",
       "geometry                0.000000\n",
       "dtype: float64"
      ]
     },
     "execution_count": 6,
     "metadata": {},
     "output_type": "execute_result"
    }
   ],
   "source": [
    "df.isna().sum() / df.count()"
   ]
  },
  {
   "cell_type": "code",
   "execution_count": 20,
   "id": "ee5c109c-3be9-4802-b287-f567c5baa4dc",
   "metadata": {},
   "outputs": [
    {
     "data": {
      "text/plain": [
       "Index(['endereco', 'numero_char', 'cep', 'latitude', 'longitude',\n",
       "       'google_type', 'shp_municipio', 'shp_bairro_distrito', 'shp_microarea',\n",
       "       'tipo_transacao', 'tipo_imovel', 'area_util', 'dormitorios', 'suites',\n",
       "       'banheiros', 'vagas', 'area_total', 'ano_construcao', 'salas', 'andar',\n",
       "       'preco_imovel_mediana', 'preco_condominio', 'Ano', 'Mes', 'data_ref',\n",
       "       'geometry'],\n",
       "      dtype='object')"
      ]
     },
     "execution_count": 20,
     "metadata": {},
     "output_type": "execute_result"
    }
   ],
   "source": [
    "df.columns"
   ]
  },
  {
   "cell_type": "code",
   "execution_count": 22,
   "id": "aa0d52f9-8482-43ba-b50c-6375739bf8c0",
   "metadata": {},
   "outputs": [
    {
     "data": {
      "text/plain": [
       "0          40.0\n",
       "1           NaN\n",
       "2          45.0\n",
       "3         257.0\n",
       "4         400.0\n",
       "          ...  \n",
       "299995    116.0\n",
       "299996     97.0\n",
       "299997    310.0\n",
       "299998     67.0\n",
       "299999    375.0\n",
       "Name: area_total, Length: 300000, dtype: float64"
      ]
     },
     "execution_count": 22,
     "metadata": {},
     "output_type": "execute_result"
    }
   ],
   "source": [
    "df['area_total']"
   ]
  },
  {
   "cell_type": "code",
   "execution_count": null,
   "id": "2ab72083-bd68-45ce-b95a-6fef28df401a",
   "metadata": {},
   "outputs": [],
   "source": []
  }
 ],
 "metadata": {
  "kernelspec": {
   "display_name": "Python 3 (ipykernel)",
   "language": "python",
   "name": "python3"
  },
  "language_info": {
   "codemirror_mode": {
    "name": "ipython",
    "version": 3
   },
   "file_extension": ".py",
   "mimetype": "text/x-python",
   "name": "python",
   "nbconvert_exporter": "python",
   "pygments_lexer": "ipython3",
   "version": "3.10.6"
  }
 },
 "nbformat": 4,
 "nbformat_minor": 5
}
